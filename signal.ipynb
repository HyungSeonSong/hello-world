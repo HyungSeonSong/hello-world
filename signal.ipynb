{
  "nbformat": 4,
  "nbformat_minor": 0,
  "metadata": {
    "colab": {
      "name": "signal.ipynb",
      "provenance": [],
      "toc_visible": true,
      "authorship_tag": "ABX9TyNTE7JWKDgMVVQ8/9R96JNv"
    },
    "kernelspec": {
      "name": "python3",
      "display_name": "Python 3"
    }
  },
  "cells": [
    {
      "cell_type": "code",
      "metadata": {
        "id": "jTAmI5SLYq_o",
        "colab_type": "code",
        "colab": {}
      },
      "source": [
        "import pandas as pd\n",
        "#input\n",
        "col_choose = 'Bz'\n",
        "#process\n",
        "col_name = ['t', 'Ex', 'Ey', 'Ez', 'Bx', 'By', 'Bz', 'Jx', 'Jy', 'Jz']\n",
        "signal = pd.read_csv('test', names = col_name, sep=' ')\n",
        "field = signal[col_choose]\n",
        "first_signal = field[field != 0].index[0] - 1\n",
        "field = field[first_signal:]\n",
        "length = len(field) + 1\n",
        "t = signal['t']\n",
        "t = t[:length]\n",
        "field = field[first_signal:]\n",
        "cutting_signal = pd.concat([t, field], axis=1)\n",
        "cutting_signal.to_csv('cutting.txt', index=False, header=None, sep=' ')"
      ],
      "execution_count": 0,
      "outputs": []
    }
  ]
}